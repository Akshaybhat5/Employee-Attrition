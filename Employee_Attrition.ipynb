{
  "nbformat": 4,
  "nbformat_minor": 0,
  "metadata": {
    "colab": {
      "name": "Employee_Attrition.ipynb",
      "private_outputs": true,
      "provenance": []
    },
    "kernelspec": {
      "name": "python3",
      "display_name": "Python 3"
    },
    "language_info": {
      "name": "python"
    }
  },
  "cells": [
    {
      "cell_type": "markdown",
      "metadata": {
        "id": "o_ZhdCRyj--d"
      },
      "source": [
        "**EMPLOYEE ATTRITION**"
      ]
    },
    {
      "cell_type": "code",
      "metadata": {
        "id": "JsYU8pfsjKVz"
      },
      "source": [
        "import pandas as pd\n",
        "import matplotlib.pyplot as plt\n",
        "import seaborn as sns\n",
        "import numpy as np\n",
        "\n",
        "from sklearn.model_selection import train_test_split\n",
        "from sklearn.preprocessing import MinMaxScaler\n",
        "from sklearn.preprocessing import OneHotEncoder\n",
        "from sklearn.metrics import accuracy_score, confusion_matrix, classification_report\n",
        "import tensorflow as tf\n",
        "from sklearn.linear_model import LogisticRegression\n",
        "from sklearn.ensemble import RandomForestClassifier"
      ],
      "execution_count": null,
      "outputs": []
    },
    {
      "cell_type": "code",
      "metadata": {
        "id": "BGspNMs1j7Ri"
      },
      "source": [
        "data = pd.read_csv('HR.csv')"
      ],
      "execution_count": null,
      "outputs": []
    },
    {
      "cell_type": "code",
      "metadata": {
        "id": "Y0pSVKk5kGit"
      },
      "source": [
        "data.head()"
      ],
      "execution_count": null,
      "outputs": []
    },
    {
      "cell_type": "code",
      "metadata": {
        "id": "ZodZGn11kHwF"
      },
      "source": [
        "# let's remove employee count, empployee number, over 18, and standard hours\n",
        "\n",
        "data.drop(['EmployeeCount','EmployeeNumber','Over18','StandardHours'], axis = 1, inplace=True)"
      ],
      "execution_count": null,
      "outputs": []
    },
    {
      "cell_type": "code",
      "metadata": {
        "id": "QU7c1jUGkdnG"
      },
      "source": [
        "data.head()"
      ],
      "execution_count": null,
      "outputs": []
    },
    {
      "cell_type": "code",
      "metadata": {
        "id": "tWXQs4vbke4D"
      },
      "source": [
        "data['Attrition'] = data['Attrition'].apply(lambda x: 1 if x == 'Yes' else 0)"
      ],
      "execution_count": null,
      "outputs": []
    },
    {
      "cell_type": "code",
      "metadata": {
        "id": "zsKR7wA5ktDa"
      },
      "source": [
        "data.head()"
      ],
      "execution_count": null,
      "outputs": []
    },
    {
      "cell_type": "code",
      "metadata": {
        "id": "ZBirMPN6kt0e"
      },
      "source": [
        "data.shape"
      ],
      "execution_count": null,
      "outputs": []
    },
    {
      "cell_type": "code",
      "metadata": {
        "id": "kQL50HPukwdW"
      },
      "source": [
        "data.info()"
      ],
      "execution_count": null,
      "outputs": []
    },
    {
      "cell_type": "code",
      "metadata": {
        "id": "egZN0QevkzrI"
      },
      "source": [
        "data.describe()"
      ],
      "execution_count": null,
      "outputs": []
    },
    {
      "cell_type": "code",
      "metadata": {
        "id": "cl9yJ7-0k1mW"
      },
      "source": [
        "# figure out if there is any outliers\n",
        "\n",
        "# Age\n",
        "sns.set_theme(style='darkgrid')\n",
        "sns.displot(data['Age'])\n",
        "plt.title('AGE', fontweight = 'bold')\n",
        "plt.tight_layout()"
      ],
      "execution_count": null,
      "outputs": []
    },
    {
      "cell_type": "code",
      "metadata": {
        "id": "0e0twO1UlDZe"
      },
      "source": [
        "# DailyRate\n",
        "sns.displot(data['DailyRate'])\n",
        "plt.title('DailyRate', fontweight = 'bold')\n",
        "plt.tight_layout()"
      ],
      "execution_count": null,
      "outputs": []
    },
    {
      "cell_type": "code",
      "metadata": {
        "id": "UB_WgT_UlOfL"
      },
      "source": [
        "# DistanceFromHome\t\n",
        "\n",
        "sns.displot(data['DistanceFromHome'])\n",
        "plt.title('DistanceFromHome', fontweight = 'bold')\n",
        "plt.tight_layout()"
      ],
      "execution_count": null,
      "outputs": []
    },
    {
      "cell_type": "code",
      "metadata": {
        "id": "WvjfTVShlYnu"
      },
      "source": [
        "# YearsAtCompany\n",
        "\n",
        "sns.displot(data['YearsAtCompany'])\n",
        "plt.title('YearsAtCompany', fontweight = 'bold')\n",
        "plt.tight_layout()"
      ],
      "execution_count": null,
      "outputs": []
    },
    {
      "cell_type": "code",
      "metadata": {
        "id": "iq2qYVZ3liPZ"
      },
      "source": [
        "# TotalWorkingYears\n",
        "\n",
        "sns.displot(data['TotalWorkingYears'])\n",
        "plt.title('TotalWorkingYears', fontweight = 'bold')\n",
        "plt.tight_layout()"
      ],
      "execution_count": null,
      "outputs": []
    },
    {
      "cell_type": "code",
      "metadata": {
        "id": "3OpkUEonlt_f"
      },
      "source": [
        "# It seems there is not outliers"
      ],
      "execution_count": null,
      "outputs": []
    },
    {
      "cell_type": "code",
      "metadata": {
        "id": "FnMbvrnalzMn"
      },
      "source": [
        "# Age v/s Attrition\n",
        "\n",
        "plt.figure(figsize=(15,10))\n",
        "\n",
        "# fig\n",
        "sns.countplot(x = data['Age'], hue = data['Attrition'])\n",
        "plt.title('AGE AND ATTRITION', fontweight = 'bold')\n",
        "plt.tight_layout()"
      ],
      "execution_count": null,
      "outputs": []
    },
    {
      "cell_type": "code",
      "metadata": {
        "id": "XofC5UdsmNpE"
      },
      "source": [
        "# let's calculate the number of employees who left the company\n",
        "df_left = data[data['Attrition'] == 1]\n",
        "\n",
        "print(f'The employees who left the company: {len(df_left)}')\n",
        "print(f'The employees who left the company in %: {round(len(df_left)/ len(data)*100, 2)}%')"
      ],
      "execution_count": null,
      "outputs": []
    },
    {
      "cell_type": "code",
      "metadata": {
        "id": "0-D6blcfmyLw"
      },
      "source": [
        "# let's calculate the number of employees who stayed in the company\n",
        "\n",
        "df_stay = data[data['Attrition']==0]\n",
        "\n",
        "print(f'The number of employees who stayed in the company: {len(df_stay)}')\n",
        "print(f'The number of employees who stayed in % : {round(len(df_stay) / len(data)*100, 2)}%')"
      ],
      "execution_count": null,
      "outputs": []
    },
    {
      "cell_type": "code",
      "metadata": {
        "id": "ZTOvMuQKncP8"
      },
      "source": [
        "plt.figure(figsize=(20,20))\n",
        "\n",
        "# jobrole v/s attrition\n",
        "plt.subplot(411)\n",
        "sns.countplot(x = data['JobRole'], hue = data['Attrition'])\n",
        "plt.title('JOB ROLE', fontweight = 'bold')\n",
        "\n",
        "# Department v/s attrition\n",
        "plt.subplot(412)\n",
        "sns.countplot(x = data['Department'], hue = data['Attrition'])\n",
        "plt.title('DEPARTMENT', fontweight = 'bold')\n",
        "\n",
        "# BusinessTravel vs attrition\n",
        "plt.subplot(413)\n",
        "sns.countplot(x = data['BusinessTravel'], hue = data['Attrition'])\n",
        "plt.title('BUSINESS TRAVEL', fontweight = 'bold')\n",
        "\n",
        "plt.tight_layout()"
      ],
      "execution_count": null,
      "outputs": []
    },
    {
      "cell_type": "code",
      "metadata": {
        "id": "MX0CzZLRoV4z"
      },
      "source": [
        "# gender vs monthly income\n",
        "\n",
        "plt.figure(figsize=(12,8))\n",
        "\n",
        "sns.boxplot(x = data['MonthlyIncome'], y = data['Gender'])\n",
        "plt.title('GENDER V/S MONTHLY INCOME', fontweight = 'bold')\n",
        "plt.tight_layout()"
      ],
      "execution_count": null,
      "outputs": []
    },
    {
      "cell_type": "code",
      "metadata": {
        "id": "sN7xkLVaowWc"
      },
      "source": [
        "# jobrole vs monthly income\n",
        "\n",
        "plt.figure(figsize=(16,8))\n",
        "\n",
        "sns.boxplot(x = data['MonthlyIncome'], y = data['JobRole'])\n",
        "plt.title('JOB ROLE V/S MONTHLY INCOME', fontweight = 'bold')\n",
        "plt.tight_layout()"
      ],
      "execution_count": null,
      "outputs": []
    },
    {
      "cell_type": "code",
      "metadata": {
        "id": "P0se7wuwpTwj"
      },
      "source": [
        "# split the data into x and y \n",
        "\n",
        "data.head()"
      ],
      "execution_count": null,
      "outputs": []
    },
    {
      "cell_type": "code",
      "metadata": {
        "id": "B9n3iL5dquwB"
      },
      "source": [
        "data['OverTime'] = data['OverTime'].apply(lambda x: 1 if x == 'Yes' else 0)"
      ],
      "execution_count": null,
      "outputs": []
    },
    {
      "cell_type": "code",
      "metadata": {
        "id": "tbx-4ywlqcbN"
      },
      "source": [
        "# categorical data\n",
        "X_cat = data[['BusinessTravel','Department','EducationField','Gender','JobRole','MaritalStatus']]"
      ],
      "execution_count": null,
      "outputs": []
    },
    {
      "cell_type": "code",
      "metadata": {
        "id": "kq74q1jHq2X7"
      },
      "source": [
        "X_cat"
      ],
      "execution_count": null,
      "outputs": []
    },
    {
      "cell_type": "code",
      "metadata": {
        "id": "NJsdqFMSq3fI"
      },
      "source": [
        "# encoding the categorical data\n",
        "\n",
        "encoder = OneHotEncoder()\n",
        "X_cat = encoder.fit_transform(X_cat).toarray()"
      ],
      "execution_count": null,
      "outputs": []
    },
    {
      "cell_type": "code",
      "metadata": {
        "id": "qWDvH0barD2e"
      },
      "source": [
        "X_cat"
      ],
      "execution_count": null,
      "outputs": []
    },
    {
      "cell_type": "code",
      "metadata": {
        "id": "t45wI498rE6p"
      },
      "source": [
        "# Numerical values\n",
        "\n",
        "data.columns"
      ],
      "execution_count": null,
      "outputs": []
    },
    {
      "cell_type": "code",
      "metadata": {
        "id": "2OX_K1onrJFc"
      },
      "source": [
        "# 'BusinessTravel','Department','EducationField','Gender','JobRole','MaritalStatus'\n",
        "# Remove all the above columns and attrition\n",
        "\n",
        "X_num = data[['Age','DailyRate',\n",
        "       'DistanceFromHome', 'Education',\n",
        "       'EnvironmentSatisfaction','HourlyRate', 'JobInvolvement',\n",
        "       'JobLevel','JobSatisfaction',\n",
        "       'MonthlyIncome', 'MonthlyRate', 'NumCompaniesWorked', 'OverTime',\n",
        "       'PercentSalaryHike', 'PerformanceRating', 'RelationshipSatisfaction',\n",
        "       'StockOptionLevel', 'TotalWorkingYears', 'TrainingTimesLastYear',\n",
        "       'WorkLifeBalance', 'YearsAtCompany', 'YearsInCurrentRole',\n",
        "       'YearsSinceLastPromotion', 'YearsWithCurrManager']]"
      ],
      "execution_count": null,
      "outputs": []
    },
    {
      "cell_type": "code",
      "metadata": {
        "id": "XWuhJjMerh0J"
      },
      "source": [
        "X_cat = pd.DataFrame(X_cat)"
      ],
      "execution_count": null,
      "outputs": []
    },
    {
      "cell_type": "code",
      "metadata": {
        "id": "iX9Ei56ZrlkE"
      },
      "source": [
        "X_cat"
      ],
      "execution_count": null,
      "outputs": []
    },
    {
      "cell_type": "code",
      "metadata": {
        "id": "bUIx0mHQrmm6"
      },
      "source": [
        "# concate both categorical and numerical data\n",
        "\n",
        "X_all = pd.concat([X_cat, X_num], axis = 1)"
      ],
      "execution_count": null,
      "outputs": []
    },
    {
      "cell_type": "code",
      "metadata": {
        "id": "K51_Osiqr1lf"
      },
      "source": [
        "X_all"
      ],
      "execution_count": null,
      "outputs": []
    },
    {
      "cell_type": "code",
      "metadata": {
        "id": "QgfiaPUGr2oE"
      },
      "source": [
        "# standardize the data\n",
        "\n",
        "scalar = MinMaxScaler()\n",
        "X = scalar.fit_transform(X_all)"
      ],
      "execution_count": null,
      "outputs": []
    },
    {
      "cell_type": "code",
      "metadata": {
        "id": "iqAkJn0MsCnZ"
      },
      "source": [
        "X"
      ],
      "execution_count": null,
      "outputs": []
    },
    {
      "cell_type": "code",
      "metadata": {
        "id": "lKfZcxP6sDHl"
      },
      "source": [
        "y = data['Attrition']"
      ],
      "execution_count": null,
      "outputs": []
    },
    {
      "cell_type": "code",
      "metadata": {
        "id": "GzE1qWLksFk9"
      },
      "source": [
        "y"
      ],
      "execution_count": null,
      "outputs": []
    },
    {
      "cell_type": "code",
      "metadata": {
        "id": "grNwiGIhsGAK"
      },
      "source": [
        "# split the data into training testing and split\n",
        "X_train, X_test, y_train, y_test = train_test_split(X, y, test_size = 0.2)"
      ],
      "execution_count": null,
      "outputs": []
    },
    {
      "cell_type": "code",
      "metadata": {
        "id": "xW2R-xRssUQ9"
      },
      "source": [
        "X_train.shape, X_test.shape"
      ],
      "execution_count": null,
      "outputs": []
    },
    {
      "cell_type": "code",
      "metadata": {
        "id": "gHBEM82asWxh"
      },
      "source": [
        "# Logistic regression model\n",
        "log = LogisticRegression()\n",
        "log.fit(X_train, y_train)"
      ],
      "execution_count": null,
      "outputs": []
    },
    {
      "cell_type": "code",
      "metadata": {
        "id": "CB-DmVvFshDw"
      },
      "source": [
        "log_out = log.predict(X_test)"
      ],
      "execution_count": null,
      "outputs": []
    },
    {
      "cell_type": "code",
      "metadata": {
        "id": "0KbYW9CvsktB"
      },
      "source": [
        "print(log_out)"
      ],
      "execution_count": null,
      "outputs": []
    },
    {
      "cell_type": "code",
      "metadata": {
        "id": "ewrxUAaLsmmy"
      },
      "source": [
        "cm = confusion_matrix(y_test, log_out)\n",
        "ac = accuracy_score(y_test, log_out)\n",
        "cl = classification_report(y_test, log_out)\n",
        "\n",
        "print(f'''The confusion metrix is:\n",
        "{cm}''')\n",
        "print(f'The accuracy score is: {round(ac, 2)*100}%')\n",
        "print(f'''The classification report is:\n",
        "{cl}''')"
      ],
      "execution_count": null,
      "outputs": []
    },
    {
      "cell_type": "code",
      "metadata": {
        "id": "BzvmJcfRtMSz"
      },
      "source": [
        "# Random Forest model\n",
        "\n",
        "forest = RandomForestClassifier(n_estimators=100, criterion='entropy', min_samples_split=3)\n",
        "forest.fit(X_train, y_train)"
      ],
      "execution_count": null,
      "outputs": []
    },
    {
      "cell_type": "code",
      "metadata": {
        "id": "S8waBCRNtakS"
      },
      "source": [
        "forest_out = forest.predict(X_test)"
      ],
      "execution_count": null,
      "outputs": []
    },
    {
      "cell_type": "code",
      "metadata": {
        "id": "-rsmeOFeteRG"
      },
      "source": [
        "print(forest_out)"
      ],
      "execution_count": null,
      "outputs": []
    },
    {
      "cell_type": "code",
      "metadata": {
        "id": "y-Kbkjcptfyx"
      },
      "source": [
        "cm = confusion_matrix(y_test, forest_out)\n",
        "ac = accuracy_score(y_test, forest_out)\n",
        "cl = classification_report(y_test, forest_out)\n",
        "\n",
        "print(f'''The confusion metrix is:\n",
        "{cm}''')\n",
        "print(f'The accuracy score is: {round(ac, 2)*100}%')\n",
        "print(f'''The classification report is:\n",
        "{cl}''')"
      ],
      "execution_count": null,
      "outputs": []
    },
    {
      "cell_type": "code",
      "metadata": {
        "id": "lluevs_gtqIr"
      },
      "source": [
        "# let's use tensorflow model\n",
        "\n",
        "model = tf.keras.models.Sequential()\n",
        "\n",
        "# input layer\n",
        "model.add(tf.keras.layers.Dense(units=500, activation='relu'))\n",
        "\n",
        "# hidden layers\n",
        "model.add(tf.keras.layers.Dense(units=500, activation='relu'))\n",
        "model.add(tf.keras.layers.Dense(units=500, activation='relu'))\n",
        "\n",
        "# output layer\n",
        "model.add(tf.keras.layers.Dense(units=1, activation='sigmoid'))"
      ],
      "execution_count": null,
      "outputs": []
    },
    {
      "cell_type": "code",
      "metadata": {
        "id": "TZjlTQTzu-1d"
      },
      "source": [
        "# model compiling\n",
        "model.compile(optimizer='adam', loss = 'binary_crossentropy', metrics=['accuracy'])"
      ],
      "execution_count": null,
      "outputs": []
    },
    {
      "cell_type": "code",
      "metadata": {
        "id": "IkvtOysVvI9S"
      },
      "source": [
        "# model fitting\n",
        "R = model.fit(X_train, y_train, batch_size=50, epochs=100)"
      ],
      "execution_count": null,
      "outputs": []
    },
    {
      "cell_type": "code",
      "metadata": {
        "id": "5lv2IoDsvQUZ"
      },
      "source": [
        "y_pred = model.predict(X_test)"
      ],
      "execution_count": null,
      "outputs": []
    },
    {
      "cell_type": "code",
      "metadata": {
        "id": "pj-4eSTFvcaF"
      },
      "source": [
        "y_pred = (y_pred>0.5)"
      ],
      "execution_count": null,
      "outputs": []
    },
    {
      "cell_type": "code",
      "metadata": {
        "id": "I8haCJyzvfLi"
      },
      "source": [
        "y_pred"
      ],
      "execution_count": null,
      "outputs": []
    },
    {
      "cell_type": "code",
      "metadata": {
        "id": "rpGEbK-nvgc-"
      },
      "source": [
        "cl = classification_report(y_test, y_pred)"
      ],
      "execution_count": null,
      "outputs": []
    },
    {
      "cell_type": "code",
      "metadata": {
        "id": "P9DuhboAvlIq"
      },
      "source": [
        "print(cl)"
      ],
      "execution_count": null,
      "outputs": []
    },
    {
      "cell_type": "code",
      "metadata": {
        "id": "A-Ems_j6vl3Q"
      },
      "source": [
        "ac = accuracy_score(y_test, y_pred)\n",
        "print(ac)"
      ],
      "execution_count": null,
      "outputs": []
    },
    {
      "cell_type": "code",
      "metadata": {
        "id": "DKz0O-AWvyPK"
      },
      "source": [
        "# The loss during model training\n",
        "\n",
        "plt.plot(R.history['loss'], label = 'LOSS DURING MODEL TRAINING')\n",
        "plt.title('LOSS', fontweight = 'bold')\n",
        "plt.xlabel('EPOCHS', fontweight = 'bold')\n",
        "plt.legend()\n",
        "plt.show()"
      ],
      "execution_count": null,
      "outputs": []
    },
    {
      "cell_type": "code",
      "metadata": {
        "id": "-ngzHyulwLWE"
      },
      "source": [
        "# The accuracy during model training\n",
        "\n",
        "plt.plot(R.history['accuracy'], label = 'ACCURACY DURING MODEL TRAINING', color = 'red')\n",
        "plt.title('ACCURACY', fontweight = 'bold')\n",
        "plt.xlabel('EPOCHS', fontweight = 'bold')\n",
        "plt.legend()\n",
        "plt.show()"
      ],
      "execution_count": null,
      "outputs": []
    },
    {
      "cell_type": "code",
      "metadata": {
        "id": "47PDIhVbwuLD"
      },
      "source": [
        "model.save('EMPLOYEE_ATTRITION.h5')"
      ],
      "execution_count": null,
      "outputs": []
    },
    {
      "cell_type": "code",
      "metadata": {
        "id": "pd6iCV_gw8VD"
      },
      "source": [
        ""
      ],
      "execution_count": null,
      "outputs": []
    }
  ]
}